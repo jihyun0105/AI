{
  "nbformat": 4,
  "nbformat_minor": 0,
  "metadata": {
    "colab": {
      "provenance": []
    },
    "kernelspec": {
      "name": "python3",
      "display_name": "Python 3"
    },
    "language_info": {
      "name": "python"
    }
  },
  "cells": [
    {
      "cell_type": "code",
      "execution_count": 1,
      "metadata": {
        "id": "T7jpTTWx6Gg1"
      },
      "outputs": [],
      "source": [
        "from tensorflow.keras.datasets import mnist\n",
        "import numpy as np\n",
        "import matplotlib.pyplot as plt"
      ]
    },
    {
      "cell_type": "code",
      "source": [
        "# 데이터 로딩\n",
        "(train_images, train_labels), (test_images, test_labels) = mnist.load_data()"
      ],
      "metadata": {
        "colab": {
          "base_uri": "https://localhost:8080/"
        },
        "id": "f5j_drLs6eQP",
        "outputId": "8be8661c-4694-4f24-dca3-658b82e582a7"
      },
      "execution_count": 2,
      "outputs": [
        {
          "output_type": "stream",
          "name": "stdout",
          "text": [
            "Downloading data from https://storage.googleapis.com/tensorflow/tf-keras-datasets/mnist.npz\n",
            "11490434/11490434 [==============================] - 0s 0us/step\n"
          ]
        }
      ]
    },
    {
      "cell_type": "code",
      "source": [
        "# Train\n",
        "batch_size = train_images.shape[0]\n",
        "input_dim = train_images.shape[1] *  train_images.shape[2]\n",
        "X_train = np.reshape(train_images, (batch_size, input_dim))\n",
        "print(\"train_images의 shape: \",end=\"\")\n",
        "print(train_images.shape)\n",
        "print(\"Flatten 전: (\" + str(train_images.shape[1]) +\", \"+ str(train_images.shape[2]) +\"), 후: \" + str(input_dim))\n",
        "\n",
        "print(\"결과\")\n",
        "print(X_train.shape)\n",
        "\n",
        "# Test\n",
        "batch_size = test_images.shape[0]\n",
        "input_dim = test_images.shape[1] *  test_images.shape[2]\n",
        "X_test = np.reshape(test_images, (batch_size, input_dim))\n",
        "print(X_test.shape)\n",
        "\n",
        "X_train = X_train / 255.0\n",
        "X_test = X_test / 255.0"
      ],
      "metadata": {
        "colab": {
          "base_uri": "https://localhost:8080/"
        },
        "id": "75tRyokH6gN0",
        "outputId": "d44861a6-2999-4678-bd93-4a2e37e557cf"
      },
      "execution_count": 3,
      "outputs": [
        {
          "output_type": "stream",
          "name": "stdout",
          "text": [
            "train_images의 shape: (60000, 28, 28)\n",
            "Flatten 전: (28, 28), 후: 784\n",
            "결과\n",
            "(60000, 784)\n",
            "(10000, 784)\n"
          ]
        }
      ]
    },
    {
      "cell_type": "code",
      "source": [
        "train_labels"
      ],
      "metadata": {
        "colab": {
          "base_uri": "https://localhost:8080/"
        },
        "id": "bRD8YhQl8yzz",
        "outputId": "cb57171f-a875-475e-d9c2-9a27eaf93777"
      },
      "execution_count": 4,
      "outputs": [
        {
          "output_type": "execute_result",
          "data": {
            "text/plain": [
              "array([5, 0, 4, ..., 5, 6, 8], dtype=uint8)"
            ]
          },
          "metadata": {},
          "execution_count": 4
        }
      ]
    },
    {
      "cell_type": "code",
      "source": [
        "# 레이블 원-핫 인코딩\n",
        "from tensorflow.keras.utils import to_categorical\n",
        "\n",
        "Y_train = to_categorical(train_labels) # one-hot encoding\n",
        "Y_test = to_categorical(test_labels)\n",
        "print('Y_train.shape is ', Y_train.shape)\n",
        "print('one-hot encoded first Y_train is ', Y_train[0])"
      ],
      "metadata": {
        "colab": {
          "base_uri": "https://localhost:8080/"
        },
        "id": "xF6qtoOG6jvF",
        "outputId": "ae87edc9-3ab8-4b59-d74f-2494b7f4317d"
      },
      "execution_count": 5,
      "outputs": [
        {
          "output_type": "stream",
          "name": "stdout",
          "text": [
            "Y_train.shape is  (60000, 10)\n",
            "one-hot encoded first Y_train is  [0. 0. 0. 0. 0. 1. 0. 0. 0. 0.]\n"
          ]
        }
      ]
    },
    {
      "cell_type": "code",
      "source": [
        "# 데이터의 개수를 확인하고 8:2 비율로 나눈다.\n",
        "total = X_train.shape[0]\n",
        "split_point = int(0.8 * total)\n",
        "\n",
        "x_val = X_train[:split_point]\n",
        "partial_x_train = X_train[split_point:]\n",
        "y_val = Y_train[:split_point]\n",
        "partial_y_train = Y_train[split_point:]"
      ],
      "metadata": {
        "id": "XhijRV-N6nTc"
      },
      "execution_count": 6,
      "outputs": []
    },
    {
      "cell_type": "code",
      "source": [
        "from tensorflow.keras import Sequential\n",
        "from tensorflow.keras.layers import Flatten, Dense\n",
        "\n",
        "model = Sequential()\n",
        "model.add(Dense(256, input_shape=(784,), activation='relu'))\n",
        "model.add(Dense(128, activation='relu'))\n",
        "model.add(Dense(10, activation='softmax'))\n",
        "\n",
        "model.compile(loss='categorical_crossentropy', optimizer='adam', metrics=['accuracy'])"
      ],
      "metadata": {
        "id": "fMa-Udv86rYL"
      },
      "execution_count": 7,
      "outputs": []
    },
    {
      "cell_type": "code",
      "source": [
        "# 모델 훈련\n",
        "%matplotlib inline\n",
        "hist = model.fit(partial_x_train, partial_y_train, epochs=20, batch_size=10,validation_data=(x_val, y_val))"
      ],
      "metadata": {
        "colab": {
          "base_uri": "https://localhost:8080/"
        },
        "id": "c-afC4Qw6tpz",
        "outputId": "b9d7d9bf-f15f-42e8-fe6e-49c3d0cf5391"
      },
      "execution_count": 8,
      "outputs": [
        {
          "output_type": "stream",
          "name": "stdout",
          "text": [
            "Epoch 1/20\n",
            "1200/1200 [==============================] - 17s 14ms/step - loss: 0.3342 - accuracy: 0.8971 - val_loss: 0.2279 - val_accuracy: 0.9317\n",
            "Epoch 2/20\n",
            "1200/1200 [==============================] - 16s 14ms/step - loss: 0.1389 - accuracy: 0.9582 - val_loss: 0.1958 - val_accuracy: 0.9402\n",
            "Epoch 3/20\n",
            "1200/1200 [==============================] - 13s 11ms/step - loss: 0.0867 - accuracy: 0.9725 - val_loss: 0.2554 - val_accuracy: 0.9255\n",
            "Epoch 4/20\n",
            "1200/1200 [==============================] - 16s 13ms/step - loss: 0.0633 - accuracy: 0.9787 - val_loss: 0.2762 - val_accuracy: 0.9276\n",
            "Epoch 5/20\n",
            "1200/1200 [==============================] - 13s 11ms/step - loss: 0.0512 - accuracy: 0.9842 - val_loss: 0.1791 - val_accuracy: 0.9518\n",
            "Epoch 6/20\n",
            "1200/1200 [==============================] - 12s 10ms/step - loss: 0.0300 - accuracy: 0.9900 - val_loss: 0.2273 - val_accuracy: 0.9499\n",
            "Epoch 7/20\n",
            "1200/1200 [==============================] - 15s 13ms/step - loss: 0.0368 - accuracy: 0.9877 - val_loss: 0.2025 - val_accuracy: 0.9551\n",
            "Epoch 8/20\n",
            "1200/1200 [==============================] - 16s 13ms/step - loss: 0.0260 - accuracy: 0.9913 - val_loss: 0.2264 - val_accuracy: 0.9540\n",
            "Epoch 9/20\n",
            "1200/1200 [==============================] - 13s 11ms/step - loss: 0.0240 - accuracy: 0.9930 - val_loss: 0.2275 - val_accuracy: 0.9521\n",
            "Epoch 10/20\n",
            "1200/1200 [==============================] - 13s 11ms/step - loss: 0.0261 - accuracy: 0.9912 - val_loss: 0.2722 - val_accuracy: 0.9503\n",
            "Epoch 11/20\n",
            "1200/1200 [==============================] - 13s 11ms/step - loss: 0.0174 - accuracy: 0.9937 - val_loss: 0.2938 - val_accuracy: 0.9492\n",
            "Epoch 12/20\n",
            "1200/1200 [==============================] - 16s 14ms/step - loss: 0.0239 - accuracy: 0.9927 - val_loss: 0.2428 - val_accuracy: 0.9546\n",
            "Epoch 13/20\n",
            "1200/1200 [==============================] - 13s 11ms/step - loss: 0.0226 - accuracy: 0.9927 - val_loss: 0.2945 - val_accuracy: 0.9519\n",
            "Epoch 14/20\n",
            "1200/1200 [==============================] - 14s 11ms/step - loss: 0.0211 - accuracy: 0.9944 - val_loss: 0.2862 - val_accuracy: 0.9554\n",
            "Epoch 15/20\n",
            "1200/1200 [==============================] - 15s 12ms/step - loss: 0.0157 - accuracy: 0.9950 - val_loss: 0.2620 - val_accuracy: 0.9581\n",
            "Epoch 16/20\n",
            "1200/1200 [==============================] - 15s 12ms/step - loss: 0.0093 - accuracy: 0.9971 - val_loss: 0.2872 - val_accuracy: 0.9556\n",
            "Epoch 17/20\n",
            "1200/1200 [==============================] - 16s 14ms/step - loss: 0.0241 - accuracy: 0.9934 - val_loss: 0.3158 - val_accuracy: 0.9521\n",
            "Epoch 18/20\n",
            "1200/1200 [==============================] - 15s 13ms/step - loss: 0.0259 - accuracy: 0.9927 - val_loss: 0.2600 - val_accuracy: 0.9582\n",
            "Epoch 19/20\n",
            "1200/1200 [==============================] - 15s 13ms/step - loss: 0.0027 - accuracy: 0.9992 - val_loss: 0.2978 - val_accuracy: 0.9567\n",
            "Epoch 20/20\n",
            "1200/1200 [==============================] - 15s 13ms/step - loss: 0.0154 - accuracy: 0.9962 - val_loss: 0.2838 - val_accuracy: 0.9593\n"
          ]
        }
      ]
    },
    {
      "cell_type": "markdown",
      "source": [],
      "metadata": {
        "id": "R2Yw_yvQG50u"
      }
    },
    {
      "cell_type": "code",
      "source": [
        "# 잘못된 예측 찾기\n",
        "pred = model.predict(X_test[:1600], batch_size=16, verbose=2)\n",
        "# pred의 shape 출력\n",
        "print(f\"Shape of pred: {pred.shape}\")\n",
        "\n",
        "wrong = [i for i in range(1600) if np.argmax(pred[i]) != np.argmax(Y_test[i])]\n",
        "wnum = len(wrong)\n",
        "print(f\"Number of wrong predictions: {wnum}\")\n",
        "# 각 잘못된 예측에 대한 tg_prob 계산\n",
        "wrong_prob = [pred[i][np.argmax(Y_test[i])] for i in wrong]\n",
        "\n",
        "print(f\"Wrong predictions indices: {wrong}\")\n",
        "print(f\"Wrong probabilities: {wrong_prob}\")"
      ],
      "metadata": {
        "colab": {
          "base_uri": "https://localhost:8080/"
        },
        "id": "cMAYAWJW6xB8",
        "outputId": "49448b48-7a67-47b6-d7f0-63942b6dae91"
      },
      "execution_count": 17,
      "outputs": [
        {
          "output_type": "stream",
          "name": "stdout",
          "text": [
            "100/100 - 0s - 147ms/epoch - 1ms/step\n",
            "Shape of pred: (1600, 10)\n",
            "Number of wrong predictions: 77\n",
            "Wrong predictions indices: [6, 149, 151, 241, 247, 259, 320, 321, 340, 381, 417, 445, 448, 478, 495, 543, 578, 582, 583, 610, 613, 659, 691, 717, 720, 740, 760, 829, 844, 877, 881, 894, 900, 924, 938, 939, 944, 947, 959, 992, 1014, 1039, 1050, 1062, 1107, 1112, 1114, 1128, 1178, 1181, 1191, 1204, 1226, 1232, 1242, 1243, 1247, 1260, 1299, 1326, 1328, 1364, 1378, 1393, 1414, 1422, 1429, 1492, 1494, 1496, 1522, 1530, 1549, 1551, 1553, 1569, 1570]\n",
            "Wrong probabilities: [0.03669937, 0.1928622, 1.52584e-05, 0.0004968824, 1.0258343e-07, 0.002152264, 0.0025853142, 1.2367035e-05, 0.22094905, 2.057948e-09, 0.15605015, 1.0482901e-05, 0.043024994, 0.047393035, 0.027539933, 0.06570009, 0.037582282, 1.1482744e-09, 0.3403425, 0.00046779783, 0.3270293, 0.2651674, 0.0057938024, 7.683536e-06, 1.371323e-07, 0.00024705043, 0.12100501, 8.789765e-07, 0.04132923, 0.25074023, 0.090777874, 0.43919235, 0.25427473, 0.005189839, 6.9237816e-05, 0.27792278, 0.23873287, 0.00018776918, 0.09051426, 0.11597806, 0.0011108748, 0.0015045222, 0.033549413, 0.0006857701, 0.04748798, 4.3439807e-09, 0.06905078, 0.031941988, 0.009458258, 1.8287228e-09, 0.17694622, 0.014005734, 1.2913245e-07, 1.1604634e-09, 0.025590133, 0.00027549666, 6.7358014e-06, 1.3280656e-07, 0.13014549, 0.036983456, 0.00013582046, 0.10706435, 0.00988696, 1.43142515e-05, 0.012523318, 0.0069090244, 0.45611316, 0.287776, 0.0013763623, 0.07583459, 0.000172704, 3.5074318e-06, 5.5704347e-12, 0.10836363, 0.0005913885, 0.027671477, 0.0024443744]\n"
          ]
        }
      ]
    },
    {
      "cell_type": "code",
      "source": [
        "# 예제번호와 tg_prob를 쌍으로 묶어서 리스트 wr_tg에 저장\n",
        "wr_tg = list(zip(wrong, wrong_prob))\n",
        "print(f\"wr_tg: {wr_tg}\")"
      ],
      "metadata": {
        "colab": {
          "base_uri": "https://localhost:8080/"
        },
        "id": "LiUS-Xfo6yrn",
        "outputId": "b9fa62a0-3b79-448e-8262-b598631851b8"
      },
      "execution_count": 14,
      "outputs": [
        {
          "output_type": "stream",
          "name": "stdout",
          "text": [
            "wr_tg: [(6, 0.03669937), (149, 0.1928622), (151, 1.52584e-05), (241, 0.0004968824), (247, 1.0258343e-07), (259, 0.002152264), (320, 0.0025853142), (321, 1.2367035e-05), (340, 0.22094905), (381, 2.057948e-09), (417, 0.15605015), (445, 1.0482901e-05), (448, 0.043024994), (478, 0.047393035), (495, 0.027539933), (543, 0.06570009), (578, 0.037582282), (582, 1.1482744e-09), (583, 0.3403425), (610, 0.00046779783), (613, 0.3270293), (659, 0.2651674), (691, 0.0057938024), (717, 7.683536e-06), (720, 1.371323e-07), (740, 0.00024705043), (760, 0.12100501), (829, 8.789765e-07), (844, 0.04132923), (877, 0.25074023), (881, 0.090777874), (894, 0.43919235), (900, 0.25427473), (924, 0.005189839), (938, 6.9237816e-05), (939, 0.27792278), (944, 0.23873287), (947, 0.00018776918), (959, 0.09051426), (992, 0.11597806), (1014, 0.0011108748), (1039, 0.0015045222), (1050, 0.033549413), (1062, 0.0006857701), (1107, 0.04748798), (1112, 4.3439807e-09), (1114, 0.06905078), (1128, 0.031941988), (1178, 0.009458258), (1181, 1.8287228e-09), (1191, 0.17694622), (1204, 0.014005734), (1226, 1.2913245e-07), (1232, 1.1604634e-09), (1242, 0.025590133), (1243, 0.00027549666), (1247, 6.7358014e-06), (1260, 1.3280656e-07), (1299, 0.13014549), (1326, 0.036983456), (1328, 0.00013582046), (1364, 0.10706435), (1378, 0.00988696), (1393, 1.43142515e-05), (1414, 0.012523318), (1422, 0.0069090244), (1429, 0.45611316), (1492, 0.287776), (1494, 0.0013763623), (1496, 0.07583459), (1522, 0.000172704), (1530, 3.5074318e-06), (1549, 5.5704347e-12), (1551, 0.10836363), (1553, 0.0005913885), (1569, 0.027671477), (1570, 0.0024443744)]\n"
          ]
        }
      ]
    },
    {
      "cell_type": "code",
      "source": [
        "# 오름차순 정렬\n",
        "sorted_wr_tg = sorted(wr_tg, key=lambda x: x[1])\n",
        "print(f\"sorted_wr_tg: {sorted_wr_tg}\")\n",
        "\n",
        "# numpy array로 변환\n",
        "wr_tg_array = np.asarray(wr_tg)"
      ],
      "metadata": {
        "colab": {
          "base_uri": "https://localhost:8080/"
        },
        "id": "q18TvqWV602v",
        "outputId": "3de0ebe3-9496-4e46-f87c-6be6a7e2f03b"
      },
      "execution_count": 15,
      "outputs": [
        {
          "output_type": "stream",
          "name": "stdout",
          "text": [
            "sorted_wr_tg: [(1549, 5.5704347e-12), (582, 1.1482744e-09), (1232, 1.1604634e-09), (1181, 1.8287228e-09), (381, 2.057948e-09), (1112, 4.3439807e-09), (247, 1.0258343e-07), (1226, 1.2913245e-07), (1260, 1.3280656e-07), (720, 1.371323e-07), (829, 8.789765e-07), (1530, 3.5074318e-06), (1247, 6.7358014e-06), (717, 7.683536e-06), (445, 1.0482901e-05), (321, 1.2367035e-05), (1393, 1.43142515e-05), (151, 1.52584e-05), (938, 6.9237816e-05), (1328, 0.00013582046), (1522, 0.000172704), (947, 0.00018776918), (740, 0.00024705043), (1243, 0.00027549666), (610, 0.00046779783), (241, 0.0004968824), (1553, 0.0005913885), (1062, 0.0006857701), (1014, 0.0011108748), (1494, 0.0013763623), (1039, 0.0015045222), (259, 0.002152264), (1570, 0.0024443744), (320, 0.0025853142), (924, 0.005189839), (691, 0.0057938024), (1422, 0.0069090244), (1178, 0.009458258), (1378, 0.00988696), (1414, 0.012523318), (1204, 0.014005734), (1242, 0.025590133), (495, 0.027539933), (1569, 0.027671477), (1128, 0.031941988), (1050, 0.033549413), (6, 0.03669937), (1326, 0.036983456), (578, 0.037582282), (844, 0.04132923), (448, 0.043024994), (478, 0.047393035), (1107, 0.04748798), (543, 0.06570009), (1114, 0.06905078), (1496, 0.07583459), (959, 0.09051426), (881, 0.090777874), (1364, 0.10706435), (1551, 0.10836363), (992, 0.11597806), (760, 0.12100501), (1299, 0.13014549), (417, 0.15605015), (1191, 0.17694622), (149, 0.1928622), (340, 0.22094905), (944, 0.23873287), (877, 0.25074023), (900, 0.25427473), (659, 0.2651674), (939, 0.27792278), (1492, 0.287776), (613, 0.3270293), (583, 0.3403425), (894, 0.43919235), (1429, 0.45611316)]\n"
          ]
        }
      ]
    },
    {
      "cell_type": "code",
      "source": [
        "import matplotlib.pyplot as plt\n",
        "\n",
        "res = wr_tg_array\n",
        "\n",
        "# 가장 예측이 실패한 처음 3개의 예제에 대한 정보를 출력\n",
        "for i in range(3):\n",
        "    example_idx = int(res[i][0])\n",
        "    true_label = test_labels[example_idx]\n",
        "    predicted_label = np.argmax(pred[example_idx])\n",
        "    tg_prob = res[i][1]\n",
        "\n",
        "    # 정보 출력\n",
        "    print(f\"예제번호: {example_idx}\")\n",
        "    print(f\"정답레이블: {true_label}\")\n",
        "    print(f\"예측레이블: {predicted_label}\")\n",
        "    print(f\"이 예제의 tg_prob: {tg_prob}\")\n",
        "\n",
        "    # 이미지 출력\n",
        "    plt.imshow(test_images[example_idx], cmap='gray')\n",
        "    plt.title(f\"Example: {example_idx}, True Label: {true_label}, Predicted: {predicted_label}\")\n",
        "    plt.show()"
      ],
      "metadata": {
        "colab": {
          "base_uri": "https://localhost:8080/",
          "height": 1000
        },
        "id": "jHEDuIu4E5Mo",
        "outputId": "66f00cd3-bca4-4cec-8166-cb12eeaec0e4"
      },
      "execution_count": 16,
      "outputs": [
        {
          "output_type": "stream",
          "name": "stdout",
          "text": [
            "Example Number: 6\n",
            "True Label: 4\n",
            "Predicted Label: 5\n",
            "tg_prob: 0.03669936954975128\n"
          ]
        },
        {
          "output_type": "display_data",
          "data": {
            "text/plain": [
              "<Figure size 640x480 with 1 Axes>"
            ],
            "image/png": "[encoded data removed]"
          },
          "metadata": {}
        },
        {
          "output_type": "stream",
          "name": "stdout",
          "text": [
            "Example Number: 149\n",
            "True Label: 2\n",
            "Predicted Label: 3\n",
            "tg_prob: 0.19286219775676727\n"
          ]
        },
        {
          "output_type": "display_data",
          "data": {
            "text/plain": [
              "<Figure size 640x480 with 1 Axes>"
            ],
            "image/png": "[encoded data removed]"
          },
          "metadata": {}
        },
        {
          "output_type": "stream",
          "name": "stdout",
          "text": [
            "Example Number: 151\n",
            "True Label: 9\n",
            "Predicted Label: 8\n",
            "tg_prob: 1.5258399798767641e-05\n"
          ]
        },
        {
          "output_type": "display_data",
          "data": {
            "text/plain": [
              "<Figure size 640x480 with 1 Axes>"
            ],
            "image/png": "[encoded data removed]"
          },
          "metadata": {}
        }
      ]
    }
  ]
}